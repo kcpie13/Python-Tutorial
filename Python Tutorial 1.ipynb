{
 "cells": [
  {
   "cell_type": "markdown",
   "id": "f7b7db73-7f8c-42a2-837a-4032a35a196a",
   "metadata": {},
   "source": [
    "\n",
    "<b><p style=\"text-align: center;\">Introduction to Python</p></b> \n",
    "**Python** is one of the popular programming languages used for data science. <br><br>\n",
    "**Data Science** is an interdisciplinary field that combines principles and practices from mathematics, statistics, artificial intelligence and machine learning. <br> It is used to find patterns in data and make meaningful, data driven conclusions and predictions.\n"
   ]
  },
  {
   "cell_type": "markdown",
   "id": "18d63062-c03b-4ff6-924d-ee393c654519",
   "metadata": {},
   "source": [
    "<b><p style=\"text-align: center;\">Python Basics</p></b> \n",
    "**Comments:** Comments are used to explain Python code. <br> They can be used to make the code more readable which help others understand the code. <br>When testing code, comments can also be used to prevent Python from executing code. <br> In Python, a comment starts with #. <br> Python ignores any characters after #. <br><br>\n",
    "**Indentation**: Indentation refers to the spaces at the beginning of a code line. <br> Python uses indentation to indicate a block of code. <br>The number of spaces in the indentation is up to you but you have to be consistent. <br> In the same block of code, the indentation must have the same number of spaces. <br>\n",
    "Python will give an error: **if you skip the indentation** and **the indentation does not have the same number of spaces in the same block of code**. <br><br> \n",
    "**Print** function: prints content to the screen or any output device. <br> Generally, **strings** and **variables** are passed as **arguments** to the print function. <br>**Arguments** are the values included within the parenthesis of a function, which the function uses for producing the result. <br>\n",
    "**String**: a sequence of one or more characters enclosed within quotes.<br>\n",
    "**Variables**: are containers for storing data values.<br>\n",
    "**Code:** *print(argument)*\n",
    "\n",
    "**Input** function: accepts input from the user.<br>\n",
    "The input provided by the user is stored as a **string**.<br>\n",
    "If you want to do any mathematical calculations with an numeric input, you need to change the data type of the input to an integer using the *int* function or a float using the *float* function. <br>\n",
    "**Code:** *variable_name=input(\"Text to be displayed\")*\r\n",
    "\n",
    "**Variables and Constants**<br>\n",
    "**Constants** are values that do not change. <br>\n",
    "While **variables** contains values that can be changed.<br>\n",
    "**To define a variable**: give the variable a name and assign it a value using the assignment operator (=). <br>\n",
    "\n",
    "**Rules for Naming a Variable:** \n",
    "* cannot have spaces.\n",
    "* cannot start with a number. \n",
    "* cannot be a reserved keyword (for example *class*, *continue*, *break*, *print*, *input*).\n",
    "* can contain only letters, numbers and underscore(_).\n",
    "* are case sensitive (age, Age and AGE are three different variables).\n",
    "**Recommendation**: use clear and meaningful variable names to make your code easier to understand.\n",
    "\n",
    "**Operators** are used to perform operations on variables and values. <br>\n",
    "Here are some common operators used in Python <br>\n",
    "**Arithmetic Operators** are used with numeric values to perform common mathematical operations:\n",
    "* Addition +\n",
    "* Subtraction -\n",
    "* Multiplication *\n",
    "* Division /\n",
    "* Modulus/Remainder %\n",
    "* Exponent ** <br>\n",
    "\n",
    "The order of operations commonly used in mathematics applies here. <br> <br>\n",
    "\n",
    "**Comparison Operators** are used to compare two values:\n",
    "* Equal ==\n",
    "* Not equal !=\n",
    "* Greater than >\n",
    "* Greater than or equal to >=\n",
    "* Less than <\n",
    "* Less than or equal to <= <br> <br>\n",
    "\n",
    "**Logical or Boolean Operators** are used to combine conditional statements: \n",
    "* AND (returns true if both statements are true).\n",
    "* OR (returns true if one of the statements is true).\n",
    "* NOT (reverse the result, returns false if the result is true). <br><br>\n",
    "\n",
    "**Assignment Operators** are used to assign values to a variable or operand:\n",
    "* Assigns a value to a variable: =\n",
    "* Adds the value on the right to the value on the left: +=\n",
    "* Subtracts the value on the right from the value on the left: -=\n",
    "* Multiplies the value on the left by the value on the right: *=\n",
    "* Returns the remainder, after dividing the value on the left by the value on the right: %=\n",
    "* Returns the quotient, after dividing the value on the left by the value on the right: /=\n",
    "* Returns only the integer part of the quotient, after dividing the value on the left by the value on the right: //= <br> <br>\n",
    "\n",
    "**Identity Operators** check for the equality of two objects, determines whether two objects point to the same value and return a Boolean value (True/False).\n",
    "* IS\n",
    "* NOT IS\n",
    "\n",
    "**Membership Operators** check if a particular value is present in a string or a container (like lists and tuples).\n",
    "* in - returns \"True\" if the value is present.\n",
    "* not in - returns \"True\" if the value is not present. <br>\n",
    "  \n",
    "**Containers** are objects that can contain multiple values. These values can have the same or different data types. The four built-in containers in Python are: Lists, Tuples, Dictionaries and Sets.<br> <br>\n",
    "  \n",
    "**Data Type** is the category or the type of a variable, based on the value it stores. <br>\n",
    "Use the *type* function to obtain the data type of a variable. <br><br>\n",
    "\n",
    "Common data types used in Python:\n",
    "* Numeric Data:\n",
    "    * *int* - numbers without a decimal point.\n",
    "    * *float* - numbers with a decimal point. <br><br>       \n",
    "* Characters or Text: *str* stores a single character or a sequence of characters within quotes.\n",
    "\n",
    "* Boolean Data: *bool* stores True or False values.\n",
    "\n",
    "* Sequences: store more than one value. Some sequences in Python are *list*, *range* and *tuple*.\n",
    "  \n",
    "* Mapping Objects: *dict* represents a dictionary, an object mapping a key to a value. <br>\n",
    "\n",
    "\n",
    "\n",
    "**Reference:** \n",
    "Rajagopalan, Gayathri. (2021). A Python Data Analyst’s Toolkit : Learn Python and Python-based Libraries with Applications in Data Analysis and Statistics."
   ]
  },
  {
   "cell_type": "raw",
   "id": "e3b38349-48bc-4b98-95a2-c93abc3ec80e",
   "metadata": {},
   "source": [
    "Practice: Write a program that asks the user to input their hours worked and their pay rate. Then it calculates and outputs their total pay (hours * rate). Add comments to document your code (explain what the code does). "
   ]
  },
  {
   "cell_type": "code",
   "execution_count": null,
   "id": "5b9f5276-0f75-443c-b02d-a29553effccb",
   "metadata": {},
   "outputs": [],
   "source": []
  },
  {
   "cell_type": "markdown",
   "id": "f9dcbe79-8e92-4e6e-9bc9-c4e8121c19cf",
   "metadata": {},
   "source": [
    "<b><p style=\"text-align: center;\">Conditional Execution</p></b>\n",
    "*if-elif-else* is used for conditional execution. <br> **Note:** *elif* means *else if* <br>\n",
    "**Conditional statements** evaluate a condition or a group of conditions. <br>\n",
    "**Conditional statements** start with keyword, *if* and the expression or a condition to be evaluated. Followed by a block of code that executes only if the condition is \"True\"; otherwise it is skipped. <br> \n",
    "The *else* statement does not contain any condition and is used to execute a block of code when the conditions mentioned in the *if* and *elif* statements are not satisfied. <br>\n",
    "*elif* statements are used when evaluating multiple conditions. <br>\n",
    "The order of *elif* statements are important because if one of the *elif* statements are evaluated as \"True\", the following *elif* statements are not executed. <br>\n",
    "An *if* statement can exist alone, without *else* or *elif* statements. <br>\n",
    "You can also have *if-else*, without *elif* statements. <br>\n",
    "Conditional statements can be nested which means we can have one conditional statement within another.<br><br>\n",
    "**Syntax:**<br>\n",
    "*if* condition1: <br>\n",
    " &nbsp;&nbsp;&nbsp;   Code Block 1 (Make sure to indent) <br>\n",
    "\n",
    "*elif* condition2:<br>\n",
    "&nbsp;&nbsp;&nbsp;    Code Block 2 (Make sure to indent)<br>\n",
    "\n",
    "*else*: <br>\n",
    " &nbsp;&nbsp;&nbsp;   Code Block 3 (Make sure to indent) <br>"
   ]
  },
  {
   "cell_type": "markdown",
   "id": "6c4ba744-9d17-44a3-a936-b4f48bfa31fe",
   "metadata": {},
   "source": [
    "**Practice**: Write a program to prompt for a score between 0 and 100. If the score is out of range, print an error message. If the score is between 0 and 100, print a grade using the table below: <br>\n",
    "A  [90, 100] <br>\n",
    "B  [80, 90)  <br>\n",
    "C  [70, 80) <br>\n",
    "D  [60, 70) <br>\n",
    "F  [0, 60) <br>\n"
   ]
  },
  {
   "cell_type": "code",
   "execution_count": null,
   "id": "770be234-1426-42ff-a239-654c9c71b02c",
   "metadata": {},
   "outputs": [],
   "source": []
  },
  {
   "cell_type": "markdown",
   "id": "b110a634-cafa-482a-87de-8dd6b81b69c8",
   "metadata": {},
   "source": [
    "<b><p style=\"text-align: center;\">Loops</p></b>\n",
    "Loops are used to execute a portion of the code repeatedly. <br>\n",
    "A single execution of a block of code is called an iteration. <br>\n",
    "Loops often go through multiple rounds of iterations. <br>\n",
    "There are two types of **loops** in Python: *while* and *for*.\n",
    "\n",
    "*While* Loop: used to execute particular instructions as long as a condition is \"True\". <br>\n",
    "After the block of code is executed, the execution goes back to the beginning of the block.<br>\n",
    "Syntax of *while* loop: <br>\n",
    "#initialize the variable in the loop<br>\n",
    "value = <br>\n",
    "\n",
    "while (condition): <br>\n",
    "&nbsp;&nbsp;&nbsp;block of code with value <br><br>\n",
    "\n",
    "*For* Loop: used to execute a block of code a predetermined number of times. <br>\n",
    "*For* loops can be used on any kind of iterable object - an object that can be looped or iterated over. <br>\n",
    "Examples of **iterable objects**: lists, tuples, dictionaries and strings. <br>\n",
    "**For** loops are commonly used with the *range* function. <br>\n",
    "The *range* function creates a sequence of evenly spaced integers. <br><br>\n",
    "Syntax of *for* loop:<br>\n",
    "for variable_name in name_of_iterable_object:<br>\n",
    "&nbsp;&nbsp;&nbsp;block of code <br><br>\n",
    "\n",
    "Syntax of *range* function:<br>\n",
    "*range*(start, stop, step)<br>\n",
    "Start (optional) - an integer number specifying at which position to start. Default: 0.  <br>\n",
    "Stop (required) - an integer number specifying at which position to stop (not included).<br>\n",
    "Step (optional) - an integer number specifying the incrementation. Default: 1. <br>\n",
    "\n",
    "\n"
   ]
  },
  {
   "cell_type": "markdown",
   "id": "c026f8fc-b0a0-4842-92aa-044240752145",
   "metadata": {},
   "source": [
    "**Practice**: Use the *while* loop to countdown from 5 to 1."
   ]
  },
  {
   "cell_type": "code",
   "execution_count": null,
   "id": "6da2b710-832d-411a-8575-00fa9f62b580",
   "metadata": {},
   "outputs": [],
   "source": []
  },
  {
   "cell_type": "markdown",
   "id": "86b3acf1-36d6-42cd-91d0-a3a96b6f7fdc",
   "metadata": {},
   "source": [
    "**Practice**: Use the for loop to print out the even integers from 1-20, inclusive."
   ]
  },
  {
   "cell_type": "code",
   "execution_count": null,
   "id": "b80c572d-64c2-41b1-8442-e798150f8279",
   "metadata": {},
   "outputs": [],
   "source": []
  },
  {
   "cell_type": "markdown",
   "id": "f0002f82-636b-46f0-b149-e0988481b1bf",
   "metadata": {},
   "source": [
    "**Practice**: Calculate the sum of the first 5 positive integers"
   ]
  },
  {
   "cell_type": "code",
   "execution_count": null,
   "id": "e9368213-f14d-4e83-889a-b3608c3be879",
   "metadata": {},
   "outputs": [],
   "source": [
    "#Hint: Initialize sum"
   ]
  }
 ],
 "metadata": {
  "kernelspec": {
   "display_name": "anaconda-panel-2023.05-py310",
   "language": "python",
   "name": "conda-env-anaconda-panel-2023.05-py310-py"
  },
  "language_info": {
   "codemirror_mode": {
    "name": "ipython",
    "version": 3
   },
   "file_extension": ".py",
   "mimetype": "text/x-python",
   "name": "python",
   "nbconvert_exporter": "python",
   "pygments_lexer": "ipython3",
   "version": "3.11.5"
  }
 },
 "nbformat": 4,
 "nbformat_minor": 5
}
